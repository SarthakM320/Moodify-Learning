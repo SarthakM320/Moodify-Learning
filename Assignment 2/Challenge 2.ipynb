{
 "cells": [
  {
   "cell_type": "code",
   "execution_count": 1,
   "metadata": {},
   "outputs": [],
   "source": [
    "import numpy as np\n",
    "import pandas as pd\n",
    "from math import *\n",
    "import numpy.random as nr\n",
    "import seaborn as sns\n",
    "import matplotlib.pyplot as plt\n",
    "\n",
    "import scipy.stats as ss\n",
    "from sklearn import preprocessing\n",
    "from sklearn import linear_model as lm\n",
    "import sklearn .model_selection as ms\n",
    "import sklearn.metrics as sklm\n",
    "\n",
    "%matplotlib inline"
   ]
  },
  {
   "cell_type": "code",
   "execution_count": 2,
   "metadata": {},
   "outputs": [
    {
     "data": {
      "text/plain": [
       "Index(['CountryRegionName', 'Education', 'Occupation', 'Gender',\n",
       "       'MaritalStatus', 'NumberCarsOwned', 'NumberChildrenAtHome',\n",
       "       'TotalChildren', 'YearlyIncome', 'AveMonthSpend', 'BikeBuyer', 'Age'],\n",
       "      dtype='object')"
      ]
     },
     "execution_count": 2,
     "metadata": {},
     "output_type": "execute_result"
    }
   ],
   "source": [
    "aw_data = pd.read_csv('AW_data_PrePad.csv')\n",
    "aw_data.columns"
   ]
  },
  {
   "cell_type": "code",
   "execution_count": 3,
   "metadata": {},
   "outputs": [],
   "source": [
    "cat_cols = ['Education', 'Occupation', 'Gender', 'MaritalStatus', 'NumberCarsOwned', \n",
    "               'NumberChildrenAtHome', 'TotalChildren']\n",
    "num_cols = ['YearlyIncome', 'Age']\n"
   ]
  },
  {
   "cell_type": "code",
   "execution_count": 4,
   "metadata": {},
   "outputs": [
    {
     "name": "stdout",
     "output_type": "stream",
     "text": [
      "(16404, 37)\n",
      "[[1. 0. 0. 0. 0. 0. 1. 0. 0. 0. 0. 0. 0. 0. 1. 0. 0. 1. 1. 0. 1. 0. 0. 0.\n",
      "  0. 1. 0. 0. 0. 0. 0. 0. 0. 1. 0. 0. 0.]\n",
      " [1. 0. 0. 0. 0. 0. 1. 0. 0. 0. 0. 0. 0. 0. 1. 0. 0. 1. 0. 1. 0. 1. 0. 0.\n",
      "  0. 0. 0. 0. 1. 0. 0. 0. 0. 0. 1. 0. 0.]]\n"
     ]
    }
   ],
   "source": [
    "def encode_string(col):\n",
    "    enc = preprocessing.LabelEncoder()\n",
    "    enc.fit(col)\n",
    "    enc_col = enc.transform(col)\n",
    "    \n",
    "    ohe = preprocessing.OneHotEncoder()\n",
    "    encoded = ohe.fit(enc_col.reshape(-1,1))\n",
    "    return encoded.transform(enc_col.reshape(-1,1)).toarray()\n",
    "\n",
    "Features = encode_string(aw_data['CountryRegionName'])\n",
    "\n",
    "for col in cat_cols:\n",
    "    temp = encode_string(aw_data[col])\n",
    "    Features = np.concatenate([Features, temp], axis = 1)\n",
    "    \n",
    "print(Features.shape)\n",
    "print(Features[:2, :])"
   ]
  },
  {
   "cell_type": "code",
   "execution_count": 5,
   "metadata": {},
   "outputs": [
    {
     "name": "stdout",
     "output_type": "stream",
     "text": [
      "(16404, 39)\n",
      "[[1.00000e+00 0.00000e+00 0.00000e+00 0.00000e+00 0.00000e+00 0.00000e+00\n",
      "  1.00000e+00 0.00000e+00 0.00000e+00 0.00000e+00 0.00000e+00 0.00000e+00\n",
      "  0.00000e+00 0.00000e+00 1.00000e+00 0.00000e+00 0.00000e+00 1.00000e+00\n",
      "  1.00000e+00 0.00000e+00 1.00000e+00 0.00000e+00 0.00000e+00 0.00000e+00\n",
      "  0.00000e+00 1.00000e+00 0.00000e+00 0.00000e+00 0.00000e+00 0.00000e+00\n",
      "  0.00000e+00 0.00000e+00 0.00000e+00 1.00000e+00 0.00000e+00 0.00000e+00\n",
      "  0.00000e+00 1.37947e+05 5.50000e+01]\n",
      " [1.00000e+00 0.00000e+00 0.00000e+00 0.00000e+00 0.00000e+00 0.00000e+00\n",
      "  1.00000e+00 0.00000e+00 0.00000e+00 0.00000e+00 0.00000e+00 0.00000e+00\n",
      "  0.00000e+00 0.00000e+00 1.00000e+00 0.00000e+00 0.00000e+00 1.00000e+00\n",
      "  0.00000e+00 1.00000e+00 0.00000e+00 1.00000e+00 0.00000e+00 0.00000e+00\n",
      "  0.00000e+00 0.00000e+00 0.00000e+00 0.00000e+00 1.00000e+00 0.00000e+00\n",
      "  0.00000e+00 0.00000e+00 0.00000e+00 0.00000e+00 1.00000e+00 0.00000e+00\n",
      "  0.00000e+00 1.01141e+05 5.50000e+01]]\n"
     ]
    }
   ],
   "source": [
    "Features = np.concatenate([Features, np.array(aw_data[['YearlyIncome', 'Age']])], axis = 1)\n",
    "    \n",
    "print(Features.shape)\n",
    "print(Features[:2, :])"
   ]
  },
  {
   "cell_type": "code",
   "execution_count": 6,
   "metadata": {},
   "outputs": [],
   "source": [
    "nr.seed(9988)\n",
    "labels = np.array(aw_data['AveMonthSpend'])\n",
    "indx = range(Features.shape[0])\n",
    "indx = ms.train_test_split(indx, test_size = 4000)\n",
    "x_train = Features[indx[0], :]\n",
    "y_train = np.ravel(labels[indx[0]])\n",
    "x_test = Features[indx[1], :]\n",
    "y_test = np.ravel(labels[indx[1]])"
   ]
  },
  {
   "cell_type": "code",
   "execution_count": 7,
   "metadata": {},
   "outputs": [
    {
     "data": {
      "text/plain": [
       "array([[-0.63575261,  0.91036442],\n",
       "       [ 0.34830527, -0.24705708],\n",
       "       [ 1.70677622,  1.80068865],\n",
       "       ...,\n",
       "       [-0.09488062,  0.02004019],\n",
       "       [ 1.13329187,  1.17746169],\n",
       "       [-0.74224606, -0.3360895 ]])"
      ]
     },
     "execution_count": 7,
     "metadata": {},
     "output_type": "execute_result"
    }
   ],
   "source": [
    "def scale(columns):\n",
    "    for i in range(columns.shape[1]):\n",
    "        col = columns[:, i]\n",
    "        m = col.mean()\n",
    "        s = col.std()\n",
    "        for j in range(col.shape[0]):\n",
    "            columns[j, i] = (columns[j, i]-m)/s\n",
    "            \n",
    "scale(x_train[:, 37:])\n",
    "scale(x_test[:, 37:])\n",
    "x_train[:, 37:]"
   ]
  },
  {
   "cell_type": "code",
   "execution_count": 8,
   "metadata": {},
   "outputs": [
    {
     "data": {
      "text/plain": [
       "array([  6.43108228,   7.42424375,   7.4308154 ,   6.8198501 ,\n",
       "         6.83674605,   6.92608988,   9.03491793,   6.65273136,\n",
       "         8.80386262,   8.82879085,   8.5485247 ,   9.09665257,\n",
       "         6.35600974,   8.30897366,   9.06713754,   9.04005394,\n",
       "         6.9328805 ,  34.93594696,  23.9913137 ,  17.87751375,\n",
       "         9.18621649,   8.83907512,   8.35104633,   8.12416484,\n",
       "         7.36832467, -19.56443861,  -9.51535   ,   0.52306242,\n",
       "        10.89321315,  23.4919415 ,  36.04039899,   5.58516278,\n",
       "         6.6467859 ,   7.25189926,   7.54196585,   7.35054924,\n",
       "         7.49246444,   8.57878048,  -1.62310972])"
      ]
     },
     "execution_count": 8,
     "metadata": {},
     "output_type": "execute_result"
    }
   ],
   "source": [
    "#so now our features are ready time to find out the coefficients\n",
    "\n",
    "#we will have to declare a theta first which will have 39 rows\n",
    "\n",
    "#we will have something called the cost function which we have to reduce\n",
    "def cost(theta, x_train, y_train):\n",
    "    theta_transpose = np.transpose(theta)\n",
    "    m = len(y_train)\n",
    "    J = np.ones(x_train.shape[1])\n",
    "    J_theta = 0\n",
    "    for i in range(x_train.shape[1]):\n",
    "        J_theta += (((np.dot(x_train[i, :], theta) - y_train[i])) ** 2)\n",
    "        J[i] = (np.dot(x_train[i, :], theta))\n",
    "        \n",
    "    return J_theta/m\n",
    "    \n",
    "def gradientdescent(x_train, y_train, alpha, num_iterations):\n",
    "    m = len(y_train)\n",
    "    theta = np.zeros((x_train.shape[1]))\n",
    "    J_history = np.zeros(num_iterations)\n",
    "    x_train_transpose = np.transpose(x_train)\n",
    "    for i in range(num_iterations):\n",
    "        theta = theta - ((alpha)*(1/m)*(np.dot(x_train_transpose, (np.dot(x_train, theta) - y_train))))\n",
    "        J_history[i] = cost(theta, x_train, y_train)\n",
    "    \n",
    "    return theta, J_history\n",
    "\n",
    "theta_final, J_history = gradientdescent(x_train, y_train, 0.1, 10000)\n",
    "theta_final"
   ]
  },
  {
   "cell_type": "code",
   "execution_count": 9,
   "metadata": {},
   "outputs": [],
   "source": [
    "# # define and fit the linear regression model\n",
    "# lin_mod = lm.LinearRegression(fit_intercept = False)\n",
    "# lin_mod.fit(x_train, y_train)\n",
    "\n",
    "# print(lin_mod.intercept_)\n",
    "# print(lin_mod.coef_)"
   ]
  },
  {
   "cell_type": "code",
   "execution_count": 10,
   "metadata": {},
   "outputs": [],
   "source": [
    "y_score = np.dot(x_test, theta_final)"
   ]
  },
  {
   "cell_type": "code",
   "execution_count": 11,
   "metadata": {},
   "outputs": [
    {
     "name": "stdout",
     "output_type": "stream",
     "text": [
      "[88 47 47 ... 55 79 83]\n"
     ]
    },
    {
     "data": {
      "text/plain": [
       "array([87.86867946, 53.67507563, 47.21181585, ..., 55.072408  ,\n",
       "       81.10860837, 85.33014077])"
      ]
     },
     "execution_count": 11,
     "metadata": {},
     "output_type": "execute_result"
    }
   ],
   "source": [
    "print(y_test)\n",
    "y_score\n"
   ]
  },
  {
   "cell_type": "code",
   "execution_count": 12,
   "metadata": {},
   "outputs": [
    {
     "name": "stdout",
     "output_type": "stream",
     "text": [
      "Mean Square Error      = 38.3527116291299\n",
      "Root Mean Square Error = 6.1929566145040855\n",
      "Mean Absolute Error    = 4.734290168804088\n",
      "Median Absolute Error  = 3.796899228809611\n",
      "R^2                    = 0.9494825012937107\n",
      "Adjusted R^2           = 0.9491391043991816\n"
     ]
    }
   ],
   "source": [
    "def print_metrics(y_true, y_predicted, n_parameters):\n",
    "    ## First compute R^2 and the adjusted R^2\n",
    "    r2 = sklm.r2_score(y_true, y_predicted)\n",
    "    r2_adj = r2 - (n_parameters - 1)/(y_true.shape[0] - n_parameters) * (1 - r2)\n",
    "    \n",
    "    ## Print the usual metrics and the R^2 values\n",
    "    print('Mean Square Error      = ' + str(sklm.mean_squared_error(y_true, y_predicted)))\n",
    "    print('Root Mean Square Error = ' + str(sqrt(sklm.mean_squared_error(y_true, y_predicted))))\n",
    "    print('Mean Absolute Error    = ' + str(sklm.mean_absolute_error(y_true, y_predicted)))\n",
    "    print('Median Absolute Error  = ' + str(sklm.median_absolute_error(y_true, y_predicted)))\n",
    "    print('R^2                    = ' + str(r2))\n",
    "    print('Adjusted R^2           = ' + str(r2_adj))\n",
    "    \n",
    "print_metrics(y_test, y_score,28)"
   ]
  },
  {
   "cell_type": "code",
   "execution_count": 13,
   "metadata": {},
   "outputs": [
    {
     "name": "stdout",
     "output_type": "stream",
     "text": [
      "0.0\n",
      "[ 3.59559583e+12  3.59559583e+12  3.59559583e+12  3.59559583e+12\n",
      "  3.59559583e+12  3.59559583e+12  1.21815744e+13  1.21815744e+13\n",
      "  1.21815744e+13  1.21815744e+13  1.21815744e+13 -1.75358331e+13\n",
      " -1.75358331e+13 -1.75358331e+13 -1.75358331e+13 -1.75358331e+13\n",
      "  2.20775735e+12  2.20775735e+12  5.35121122e+13  5.35121122e+13\n",
      " -6.42505918e+13 -6.42505918e+13 -6.42505918e+13 -6.42505918e+13\n",
      " -6.42505918e+13  2.31638331e+13  2.31638331e+13  2.31638331e+13\n",
      "  2.31638331e+13  2.31638331e+13  2.31638331e+13 -1.28744479e+13\n",
      " -1.28744479e+13 -1.28744479e+13 -1.28744479e+13 -1.28744479e+13\n",
      " -1.28744479e+13  8.60241699e+00 -1.61718750e+00]\n"
     ]
    }
   ],
   "source": [
    "#now we compare this with the predesigned linear regression model\n",
    "\n",
    "# define and fit the linear regression model\n",
    "lin_mod = lm.LinearRegression(fit_intercept = False)\n",
    "lin_mod.fit(x_train, y_train)\n",
    "\n",
    "print(lin_mod.intercept_)\n",
    "print(lin_mod.coef_)"
   ]
  },
  {
   "cell_type": "code",
   "execution_count": 14,
   "metadata": {},
   "outputs": [
    {
     "name": "stdout",
     "output_type": "stream",
     "text": [
      "Mean Square Error      = 38.524636460360036\n",
      "Root Mean Square Error = 6.206821768051668\n",
      "Mean Absolute Error    = 4.749142117259407\n",
      "Median Absolute Error  = 3.828125\n",
      "R^2                    = 0.9492560450127772\n",
      "Adjusted R^2           = 0.948911108762864\n"
     ]
    }
   ],
   "source": [
    "y_score_lr = lin_mod.predict(x_test) \n",
    "print_metrics(y_test, y_score_lr, 28)"
   ]
  }
 ],
 "metadata": {
  "kernelspec": {
   "display_name": "Python 3",
   "language": "python",
   "name": "python3"
  },
  "language_info": {
   "codemirror_mode": {
    "name": "ipython",
    "version": 3
   },
   "file_extension": ".py",
   "mimetype": "text/x-python",
   "name": "python",
   "nbconvert_exporter": "python",
   "pygments_lexer": "ipython3",
   "version": "3.8.5"
  }
 },
 "nbformat": 4,
 "nbformat_minor": 4
}
