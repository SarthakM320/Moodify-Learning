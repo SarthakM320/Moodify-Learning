{
 "cells": [
  {
   "cell_type": "code",
   "execution_count": 1,
   "metadata": {},
   "outputs": [],
   "source": [
    "import pandas as pd\n",
    "import numpy as np\n",
    "import numpy.random as nr\n",
    "import matplotlib.pyplot as plt\n",
    "from math import *\n",
    "import seaborn as sns\n",
    "%matplotlib inline\n",
    "\n",
    "from sklearn import preprocessing\n",
    "from sklearn import linear_model as lm\n",
    "import sklearn.model_selection as ms\n",
    "import sklearn.metrics as sklm\n",
    "import scipy.stats as ss\n",
    "\n",
    "data = pd.read_json('data.json')\n",
    "data\n",
    "\n",
    "data.isnull().sum()\n",
    "\n",
    "data.drop_duplicates(keep = 'first')\n",
    "\n",
    "counts = data[[0, 2]].groupby(2).count()\n",
    "counts\n",
    "\n",
    "Features = np.array(data[[0, 1]])\n",
    "labels = np.array(data[2])\n",
    "\n",
    "nr.seed(9988)\n",
    "indx = range(Features.shape[0])\n",
    "indx = ms.train_test_split(indx, test_size = 2000)\n",
    "x_train = Features[indx[0],:]\n",
    "y_train = np.ravel(labels[indx[0]])\n",
    "x_test = Features[indx[1],:]\n",
    "y_test = np.ravel(labels[indx[1]])\n",
    "\n",
    "def scale(cols):\n",
    "    for i in range(cols.shape[1]):\n",
    "        col = cols[:, i]\n",
    "        m = col.mean()\n",
    "        s = col.std()\n",
    "        for j in range(col.shape[0]):\n",
    "            cols[j, i] = (cols[j, i] -m)/s \n",
    "\n",
    "scale(x_train[: ,:])\n",
    "scale(x_test[: ,:])\n",
    "\n"
   ]
  },
  {
   "cell_type": "code",
   "execution_count": 69,
   "metadata": {},
   "outputs": [],
   "source": [
    "x = np.concatenate([np.ones((x_train.shape[0], 1)), x_train], axis = 1)\n",
    "theta = np.ones([x.shape[1],1])\n",
    "y = y_train.reshape(4000,1)\n",
    "x_test = np.concatenate([np.ones((x_test.shape[0], 1)), x_test], axis = 1)"
   ]
  },
  {
   "cell_type": "code",
   "execution_count": 70,
   "metadata": {},
   "outputs": [
    {
     "data": {
      "text/plain": [
       "(4000, 1)"
      ]
     },
     "execution_count": 70,
     "metadata": {},
     "output_type": "execute_result"
    }
   ],
   "source": [
    "def sigmoid(x):\n",
    "    return 1/(1+np.exp(-x))\n",
    "\n",
    "def net_input(x, theta):\n",
    "    return np.dot(x, theta)\n",
    "\n",
    "def probability(theta, x):\n",
    "    return sigmoid(net_input(x, theta))\n",
    "\n",
    "(net_input(x, theta)-y).shape"
   ]
  },
  {
   "cell_type": "code",
   "execution_count": 71,
   "metadata": {},
   "outputs": [
    {
     "data": {
      "text/plain": [
       "(3, 1)"
      ]
     },
     "execution_count": 71,
     "metadata": {},
     "output_type": "execute_result"
    }
   ],
   "source": [
    " # Computes the cost function for all the training samples\n",
    "def cost_function(theta, x, y):\n",
    "    m = x.shape[0]\n",
    "    total_cost = (-1/m)*(np.sum(y*np.log(probability(theta, x)) + (1-y)*(np.log(1-probability(theta, x)))))\n",
    "    return total_cost\n",
    "\n",
    "# Computes the gradient of the cost function at the point theta\n",
    "def gradient(theta, x, y):\n",
    "    m = x.shape[0]\n",
    "    return (1/m)*(np.dot(np.transpose(x), sigmoid(net_input(x, theta))-y))\n",
    "\n",
    "gradient(theta, x, y).shape"
   ]
  },
  {
   "cell_type": "code",
   "execution_count": 72,
   "metadata": {},
   "outputs": [],
   "source": [
    "alpha = 0.001\n",
    "num_iters = 400\n",
    "m = 4000\n",
    "for i in range(num_iters):\n",
    "    theta = theta - (alpha/m)*(gradient(theta,x,y))"
   ]
  },
  {
   "cell_type": "code",
   "execution_count": 73,
   "metadata": {},
   "outputs": [
    {
     "data": {
      "text/plain": [
       "(3, 1)"
      ]
     },
     "execution_count": 73,
     "metadata": {},
     "output_type": "execute_result"
    }
   ],
   "source": [
    "theta.shape\n"
   ]
  },
  {
   "cell_type": "code",
   "execution_count": 74,
   "metadata": {},
   "outputs": [
    {
     "data": {
      "text/plain": [
       "array([[1.00001098],\n",
       "       [0.99998568],\n",
       "       [0.99998371]])"
      ]
     },
     "execution_count": 74,
     "metadata": {},
     "output_type": "execute_result"
    }
   ],
   "source": [
    "theta"
   ]
  },
  {
   "cell_type": "code",
   "execution_count": 75,
   "metadata": {},
   "outputs": [
    {
     "data": {
      "text/plain": [
       "0.6841821975302369"
      ]
     },
     "execution_count": 75,
     "metadata": {},
     "output_type": "execute_result"
    }
   ],
   "source": [
    "cost_function(theta, x, y)"
   ]
  },
  {
   "cell_type": "code",
   "execution_count": 79,
   "metadata": {},
   "outputs": [
    {
     "data": {
      "text/plain": [
       "(2000, 1)"
      ]
     },
     "execution_count": 79,
     "metadata": {},
     "output_type": "execute_result"
    }
   ],
   "source": [
    "probs = probability(theta, x_test)\n",
    "probs.shape"
   ]
  },
  {
   "cell_type": "code",
   "execution_count": 80,
   "metadata": {},
   "outputs": [
    {
     "data": {
      "text/plain": [
       "array([1, 0, 0, ..., 0, 1, 1])"
      ]
     },
     "execution_count": 80,
     "metadata": {},
     "output_type": "execute_result"
    }
   ],
   "source": [
    "threshold = 0.5\n",
    "prediction = np.array([1 if x>threshold else 0 for x in probs])\n",
    "prediction"
   ]
  },
  {
   "cell_type": "code",
   "execution_count": 81,
   "metadata": {},
   "outputs": [
    {
     "data": {
      "text/plain": [
       "array([1, 0, 0, ..., 1, 1, 1], dtype=int64)"
      ]
     },
     "execution_count": 81,
     "metadata": {},
     "output_type": "execute_result"
    }
   ],
   "source": [
    "y_test"
   ]
  },
  {
   "cell_type": "code",
   "execution_count": 83,
   "metadata": {},
   "outputs": [
    {
     "name": "stdout",
     "output_type": "stream",
     "text": [
      "                 Confusion matrix\n",
      "                 Score positive    Score negative\n",
      "Actual positive       139               310\n",
      "Actual negative       369              1182\n",
      "\n",
      "Accuracy 0.66\n",
      " \n",
      "           Positive      Negative\n",
      "Num case      449          1551\n",
      "Precision    0.27          0.79\n",
      "Recall       0.31          0.76\n",
      "F1           0.29          0.78\n"
     ]
    }
   ],
   "source": [
    "def print_metrics(labels, scores):\n",
    "    metrics = sklm.precision_recall_fscore_support(labels, scores)\n",
    "    conf = sklm.confusion_matrix(labels,scores)\n",
    "    print('                 Confusion matrix')\n",
    "    print('                 Score positive    Score negative')\n",
    "    print('Actual positive    %6d' % conf[0,0] + '             %5d' % conf[0,1])\n",
    "    print('Actual negative    %6d' % conf[1,0] + '             %5d' % conf[1,1])\n",
    "    print('')\n",
    "    print(f'Accuracy {sklm.accuracy_score(labels,scores):.2f}')\n",
    "    print(' ')\n",
    "    print('           Positive      Negative')\n",
    "    print('Num case   %6d' % metrics[3][0] + '        %6d' % metrics[3][1])\n",
    "    print('Precision  %6.2f' % metrics[0][0] + '        %6.2f' % metrics[0][1])\n",
    "    print('Recall     %6.2f' % metrics[1][0] + '        %6.2f' % metrics[1][1])\n",
    "    print('F1         %6.2f' % metrics[2][0] + '        %6.2f' % metrics[2][1])\n",
    "    \n",
    "    \n",
    "    \n",
    "print_metrics(y_test, prediction)"
   ]
  },
  {
   "cell_type": "code",
   "execution_count": 86,
   "metadata": {},
   "outputs": [
    {
     "data": {
      "image/png": "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\n",
      "text/plain": [
       "<Figure size 432x288 with 1 Axes>"
      ]
     },
     "metadata": {
      "needs_background": "light"
     },
     "output_type": "display_data"
    }
   ],
   "source": [
    "def plot_auc(labels, probs):\n",
    "    ## Compute the false positive rate, true positive rate\n",
    "    ## and threshold along with the AUC\n",
    "    fpr, tpr, threshold = sklm.roc_curve(labels, probs)\n",
    "    auc = sklm.auc(fpr, tpr)\n",
    "     \n",
    "    ## Plot the result\n",
    "    plt.title('Receiver Operating Characteristic')\n",
    "    plt.plot(fpr, tpr, color = 'orange', label = 'AUC = %0.2f' % auc)\n",
    "    plt.legend(loc = 'lower right')\n",
    "    plt.plot([0, 1], [0, 1],'r--')\n",
    "    plt.xlim([0, 1])\n",
    "    plt.ylim([0, 1])\n",
    "    plt.ylabel('True Positive Rate')\n",
    "    plt.xlabel('False Positive Rate')\n",
    "    plt.show()\n",
    "    \n",
    "plot_auc(y_test, probs)"
   ]
  },
  {
   "cell_type": "code",
   "execution_count": 88,
   "metadata": {},
   "outputs": [
    {
     "name": "stdout",
     "output_type": "stream",
     "text": [
      "                 Confusion matrix\n",
      "                 Score positive    Score negative\n",
      "Actual positive       449                 0\n",
      "Actual negative      1551                 0\n",
      "\n",
      "Accuracy 0.22\n",
      " \n",
      "           Positive      Negative\n",
      "Num case      449          1551\n",
      "Precision    0.22          0.00\n",
      "Recall       1.00          0.00\n",
      "F1           0.37          0.00\n"
     ]
    },
    {
     "name": "stderr",
     "output_type": "stream",
     "text": [
      "C:\\Users\\sarth\\anaconda3\\lib\\site-packages\\sklearn\\metrics\\_classification.py:1221: UndefinedMetricWarning: Precision and F-score are ill-defined and being set to 0.0 in labels with no predicted samples. Use `zero_division` parameter to control this behavior.\n",
      "  _warn_prf(average, modifier, msg_start, len(result))\n"
     ]
    },
    {
     "ename": "ValueError",
     "evalue": "y should be a 1d array, got an array of shape (2000, 2) instead.",
     "output_type": "error",
     "traceback": [
      "\u001b[1;31m---------------------------------------------------------------------------\u001b[0m",
      "\u001b[1;31mValueError\u001b[0m                                Traceback (most recent call last)",
      "\u001b[1;32m<ipython-input-88-a4bb816cd242>\u001b[0m in \u001b[0;36m<module>\u001b[1;34m\u001b[0m\n\u001b[0;32m      7\u001b[0m \u001b[0mscores_positive\u001b[0m \u001b[1;33m=\u001b[0m \u001b[0mscore_model\u001b[0m\u001b[1;33m(\u001b[0m\u001b[0mprobs_positive\u001b[0m\u001b[1;33m,\u001b[0m \u001b[1;36m0.5\u001b[0m\u001b[1;33m)\u001b[0m\u001b[1;33m\u001b[0m\u001b[1;33m\u001b[0m\u001b[0m\n\u001b[0;32m      8\u001b[0m \u001b[0mprint_metrics\u001b[0m\u001b[1;33m(\u001b[0m\u001b[0my_test\u001b[0m\u001b[1;33m,\u001b[0m \u001b[0mscores_positive\u001b[0m\u001b[1;33m)\u001b[0m\u001b[1;33m\u001b[0m\u001b[1;33m\u001b[0m\u001b[0m\n\u001b[1;32m----> 9\u001b[1;33m \u001b[0mplot_auc\u001b[0m\u001b[1;33m(\u001b[0m\u001b[0my_test\u001b[0m\u001b[1;33m,\u001b[0m \u001b[0mprobs_positive\u001b[0m\u001b[1;33m)\u001b[0m\u001b[1;33m\u001b[0m\u001b[1;33m\u001b[0m\u001b[0m\n\u001b[0m",
      "\u001b[1;32m<ipython-input-86-3ca6361be4db>\u001b[0m in \u001b[0;36mplot_auc\u001b[1;34m(labels, probs)\u001b[0m\n\u001b[0;32m      2\u001b[0m     \u001b[1;31m## Compute the false positive rate, true positive rate\u001b[0m\u001b[1;33m\u001b[0m\u001b[1;33m\u001b[0m\u001b[1;33m\u001b[0m\u001b[0m\n\u001b[0;32m      3\u001b[0m     \u001b[1;31m## and threshold along with the AUC\u001b[0m\u001b[1;33m\u001b[0m\u001b[1;33m\u001b[0m\u001b[1;33m\u001b[0m\u001b[0m\n\u001b[1;32m----> 4\u001b[1;33m     \u001b[0mfpr\u001b[0m\u001b[1;33m,\u001b[0m \u001b[0mtpr\u001b[0m\u001b[1;33m,\u001b[0m \u001b[0mthreshold\u001b[0m \u001b[1;33m=\u001b[0m \u001b[0msklm\u001b[0m\u001b[1;33m.\u001b[0m\u001b[0mroc_curve\u001b[0m\u001b[1;33m(\u001b[0m\u001b[0mlabels\u001b[0m\u001b[1;33m,\u001b[0m \u001b[0mprobs\u001b[0m\u001b[1;33m)\u001b[0m\u001b[1;33m\u001b[0m\u001b[1;33m\u001b[0m\u001b[0m\n\u001b[0m\u001b[0;32m      5\u001b[0m     \u001b[0mauc\u001b[0m \u001b[1;33m=\u001b[0m \u001b[0msklm\u001b[0m\u001b[1;33m.\u001b[0m\u001b[0mauc\u001b[0m\u001b[1;33m(\u001b[0m\u001b[0mfpr\u001b[0m\u001b[1;33m,\u001b[0m \u001b[0mtpr\u001b[0m\u001b[1;33m)\u001b[0m\u001b[1;33m\u001b[0m\u001b[1;33m\u001b[0m\u001b[0m\n\u001b[0;32m      6\u001b[0m \u001b[1;33m\u001b[0m\u001b[0m\n",
      "\u001b[1;32m~\\anaconda3\\lib\\site-packages\\sklearn\\utils\\validation.py\u001b[0m in \u001b[0;36minner_f\u001b[1;34m(*args, **kwargs)\u001b[0m\n\u001b[0;32m     70\u001b[0m                           FutureWarning)\n\u001b[0;32m     71\u001b[0m         \u001b[0mkwargs\u001b[0m\u001b[1;33m.\u001b[0m\u001b[0mupdate\u001b[0m\u001b[1;33m(\u001b[0m\u001b[1;33m{\u001b[0m\u001b[0mk\u001b[0m\u001b[1;33m:\u001b[0m \u001b[0marg\u001b[0m \u001b[1;32mfor\u001b[0m \u001b[0mk\u001b[0m\u001b[1;33m,\u001b[0m \u001b[0marg\u001b[0m \u001b[1;32min\u001b[0m \u001b[0mzip\u001b[0m\u001b[1;33m(\u001b[0m\u001b[0msig\u001b[0m\u001b[1;33m.\u001b[0m\u001b[0mparameters\u001b[0m\u001b[1;33m,\u001b[0m \u001b[0margs\u001b[0m\u001b[1;33m)\u001b[0m\u001b[1;33m}\u001b[0m\u001b[1;33m)\u001b[0m\u001b[1;33m\u001b[0m\u001b[1;33m\u001b[0m\u001b[0m\n\u001b[1;32m---> 72\u001b[1;33m         \u001b[1;32mreturn\u001b[0m \u001b[0mf\u001b[0m\u001b[1;33m(\u001b[0m\u001b[1;33m**\u001b[0m\u001b[0mkwargs\u001b[0m\u001b[1;33m)\u001b[0m\u001b[1;33m\u001b[0m\u001b[1;33m\u001b[0m\u001b[0m\n\u001b[0m\u001b[0;32m     73\u001b[0m     \u001b[1;32mreturn\u001b[0m \u001b[0minner_f\u001b[0m\u001b[1;33m\u001b[0m\u001b[1;33m\u001b[0m\u001b[0m\n\u001b[0;32m     74\u001b[0m \u001b[1;33m\u001b[0m\u001b[0m\n",
      "\u001b[1;32m~\\anaconda3\\lib\\site-packages\\sklearn\\metrics\\_ranking.py\u001b[0m in \u001b[0;36mroc_curve\u001b[1;34m(y_true, y_score, pos_label, sample_weight, drop_intermediate)\u001b[0m\n\u001b[0;32m    773\u001b[0m \u001b[1;33m\u001b[0m\u001b[0m\n\u001b[0;32m    774\u001b[0m     \"\"\"\n\u001b[1;32m--> 775\u001b[1;33m     fps, tps, thresholds = _binary_clf_curve(\n\u001b[0m\u001b[0;32m    776\u001b[0m         y_true, y_score, pos_label=pos_label, sample_weight=sample_weight)\n\u001b[0;32m    777\u001b[0m \u001b[1;33m\u001b[0m\u001b[0m\n",
      "\u001b[1;32m~\\anaconda3\\lib\\site-packages\\sklearn\\metrics\\_ranking.py\u001b[0m in \u001b[0;36m_binary_clf_curve\u001b[1;34m(y_true, y_score, pos_label, sample_weight)\u001b[0m\n\u001b[0;32m    541\u001b[0m     \u001b[0mcheck_consistent_length\u001b[0m\u001b[1;33m(\u001b[0m\u001b[0my_true\u001b[0m\u001b[1;33m,\u001b[0m \u001b[0my_score\u001b[0m\u001b[1;33m,\u001b[0m \u001b[0msample_weight\u001b[0m\u001b[1;33m)\u001b[0m\u001b[1;33m\u001b[0m\u001b[1;33m\u001b[0m\u001b[0m\n\u001b[0;32m    542\u001b[0m     \u001b[0my_true\u001b[0m \u001b[1;33m=\u001b[0m \u001b[0mcolumn_or_1d\u001b[0m\u001b[1;33m(\u001b[0m\u001b[0my_true\u001b[0m\u001b[1;33m)\u001b[0m\u001b[1;33m\u001b[0m\u001b[1;33m\u001b[0m\u001b[0m\n\u001b[1;32m--> 543\u001b[1;33m     \u001b[0my_score\u001b[0m \u001b[1;33m=\u001b[0m \u001b[0mcolumn_or_1d\u001b[0m\u001b[1;33m(\u001b[0m\u001b[0my_score\u001b[0m\u001b[1;33m)\u001b[0m\u001b[1;33m\u001b[0m\u001b[1;33m\u001b[0m\u001b[0m\n\u001b[0m\u001b[0;32m    544\u001b[0m     \u001b[0massert_all_finite\u001b[0m\u001b[1;33m(\u001b[0m\u001b[0my_true\u001b[0m\u001b[1;33m)\u001b[0m\u001b[1;33m\u001b[0m\u001b[1;33m\u001b[0m\u001b[0m\n\u001b[0;32m    545\u001b[0m     \u001b[0massert_all_finite\u001b[0m\u001b[1;33m(\u001b[0m\u001b[0my_score\u001b[0m\u001b[1;33m)\u001b[0m\u001b[1;33m\u001b[0m\u001b[1;33m\u001b[0m\u001b[0m\n",
      "\u001b[1;32m~\\anaconda3\\lib\\site-packages\\sklearn\\utils\\validation.py\u001b[0m in \u001b[0;36minner_f\u001b[1;34m(*args, **kwargs)\u001b[0m\n\u001b[0;32m     70\u001b[0m                           FutureWarning)\n\u001b[0;32m     71\u001b[0m         \u001b[0mkwargs\u001b[0m\u001b[1;33m.\u001b[0m\u001b[0mupdate\u001b[0m\u001b[1;33m(\u001b[0m\u001b[1;33m{\u001b[0m\u001b[0mk\u001b[0m\u001b[1;33m:\u001b[0m \u001b[0marg\u001b[0m \u001b[1;32mfor\u001b[0m \u001b[0mk\u001b[0m\u001b[1;33m,\u001b[0m \u001b[0marg\u001b[0m \u001b[1;32min\u001b[0m \u001b[0mzip\u001b[0m\u001b[1;33m(\u001b[0m\u001b[0msig\u001b[0m\u001b[1;33m.\u001b[0m\u001b[0mparameters\u001b[0m\u001b[1;33m,\u001b[0m \u001b[0margs\u001b[0m\u001b[1;33m)\u001b[0m\u001b[1;33m}\u001b[0m\u001b[1;33m)\u001b[0m\u001b[1;33m\u001b[0m\u001b[1;33m\u001b[0m\u001b[0m\n\u001b[1;32m---> 72\u001b[1;33m         \u001b[1;32mreturn\u001b[0m \u001b[0mf\u001b[0m\u001b[1;33m(\u001b[0m\u001b[1;33m**\u001b[0m\u001b[0mkwargs\u001b[0m\u001b[1;33m)\u001b[0m\u001b[1;33m\u001b[0m\u001b[1;33m\u001b[0m\u001b[0m\n\u001b[0m\u001b[0;32m     73\u001b[0m     \u001b[1;32mreturn\u001b[0m \u001b[0minner_f\u001b[0m\u001b[1;33m\u001b[0m\u001b[1;33m\u001b[0m\u001b[0m\n\u001b[0;32m     74\u001b[0m \u001b[1;33m\u001b[0m\u001b[0m\n",
      "\u001b[1;32m~\\anaconda3\\lib\\site-packages\\sklearn\\utils\\validation.py\u001b[0m in \u001b[0;36mcolumn_or_1d\u001b[1;34m(y, warn)\u001b[0m\n\u001b[0;32m    843\u001b[0m         \u001b[1;32mreturn\u001b[0m \u001b[0mnp\u001b[0m\u001b[1;33m.\u001b[0m\u001b[0mravel\u001b[0m\u001b[1;33m(\u001b[0m\u001b[0my\u001b[0m\u001b[1;33m)\u001b[0m\u001b[1;33m\u001b[0m\u001b[1;33m\u001b[0m\u001b[0m\n\u001b[0;32m    844\u001b[0m \u001b[1;33m\u001b[0m\u001b[0m\n\u001b[1;32m--> 845\u001b[1;33m     raise ValueError(\n\u001b[0m\u001b[0;32m    846\u001b[0m         \u001b[1;34m\"y should be a 1d array, \"\u001b[0m\u001b[1;33m\u001b[0m\u001b[1;33m\u001b[0m\u001b[0m\n\u001b[0;32m    847\u001b[0m         \"got an array of shape {} instead.\".format(shape))\n",
      "\u001b[1;31mValueError\u001b[0m: y should be a 1d array, got an array of shape (2000, 2) instead."
     ]
    }
  },
  {
   "cell_type": "code",
   "execution_count": null,
   "metadata": {},
   "outputs": [],
   "source": []
  }
 ],
 "metadata": {
  "kernelspec": {
   "display_name": "Python 3",
   "language": "python",
   "name": "python3"
  },
  "language_info": {
   "codemirror_mode": {
    "name": "ipython",
    "version": 3
   },
   "file_extension": ".py",
   "mimetype": "text/x-python",
   "name": "python",
   "nbconvert_exporter": "python",
   "pygments_lexer": "ipython3",
   "version": "3.8.5"
  }
 },
 "nbformat": 4,
 "nbformat_minor": 4
}
