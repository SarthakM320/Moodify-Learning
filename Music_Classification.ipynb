{
  "nbformat": 4,
  "nbformat_minor": 0,
  "metadata": {
    "colab": {
      "name": "Music_Classification.ipynb",
      "provenance": [],
      "collapsed_sections": []
    },
    "kernelspec": {
      "name": "python3",
      "display_name": "Python 3"
    },
    "language_info": {
      "name": "python"
    },
    "accelerator": "GPU"
  },
  "cells": [
    {
      "cell_type": "code",
      "metadata": {
        "id": "OLBmj84XGagR"
      },
      "source": [
        "import numpy as np\n",
        "import pandas as pd\n",
        "import matplotlib.pyplot as plt\n",
        "import seaborn as sns\n",
        "#Libraries to pre-process the variables\n",
        "from sklearn.preprocessing import LabelEncoder,MinMaxScaler\n",
        "from sklearn.model_selection import train_test_split"
      ],
      "execution_count": 186,
      "outputs": []
    },
    {
      "cell_type": "code",
      "metadata": {
        "id": "XM9IovlMhu0t"
      },
      "source": [
        "#Libraries to create the Multi-class Neural Network\n",
        "from keras.models import Sequential\n",
        "from keras.regularizers import l1, l2\n",
        "from keras.layers import Dense, Dropout\n",
        "from keras.wrappers.scikit_learn import KerasClassifier\n",
        "from keras.utils import np_utils\n",
        "import tensorflow as tf"
      ],
      "execution_count": 187,
      "outputs": []
    },
    {
      "cell_type": "code",
      "metadata": {
        "colab": {
          "base_uri": "https://localhost:8080/"
        },
        "id": "7T9o9PAj0_8J",
        "outputId": "ad6bd2ca-db06-4e4e-e228-043a57c52e55"
      },
      "source": [
        "X_train.shape"
      ],
      "execution_count": 201,
      "outputs": [
        {
          "output_type": "execute_result",
          "data": {
            "text/plain": [
              "(548, 13)"
            ]
          },
          "metadata": {
            "tags": []
          },
          "execution_count": 201
        }
      ]
    },
    {
      "cell_type": "code",
      "metadata": {
        "colab": {
          "base_uri": "https://localhost:8080/"
        },
        "id": "luUSGia-i1kL",
        "outputId": "9ea8e817-6ab2-4f1b-ecbe-94fb4fd0b837"
      },
      "source": [
        "from google.colab import drive\n",
        "drive.mount('/content/drive')"
      ],
      "execution_count": 188,
      "outputs": [
        {
          "output_type": "stream",
          "text": [
            "Drive already mounted at /content/drive; to attempt to forcibly remount, call drive.mount(\"/content/drive\", force_remount=True).\n"
          ],
          "name": "stdout"
        }
      ]
    },
    {
      "cell_type": "code",
      "metadata": {
        "id": "x_GlJ0Aqi2e5"
      },
      "source": [
        "df = pd.read_csv('/content/drive/MyDrive/moods.csv') "
      ],
      "execution_count": 189,
      "outputs": []
    },
    {
      "cell_type": "code",
      "metadata": {
        "id": "XEJFLzULjdun"
      },
      "source": [
        "Y = df['mood']"
      ],
      "execution_count": 190,
      "outputs": []
    },
    {
      "cell_type": "code",
      "metadata": {
        "id": "BY-CZEpCkJfv"
      },
      "source": [
        "df.drop(axis = 1, columns = ['name', 'album','mood', 'artist', 'id', 'release_date'], inplace = True)"
      ],
      "execution_count": 191,
      "outputs": []
    },
    {
      "cell_type": "code",
      "metadata": {
        "id": "Og-p16NakdPk"
      },
      "source": [
        "X = df"
      ],
      "execution_count": 192,
      "outputs": []
    },
    {
      "cell_type": "code",
      "metadata": {
        "id": "wQKH_x4Lk2t-"
      },
      "source": [
        "X= MinMaxScaler().fit_transform(X)"
      ],
      "execution_count": 193,
      "outputs": []
    },
    {
      "cell_type": "code",
      "metadata": {
        "id": "6BHibfhelSwK"
      },
      "source": [
        "encoder = LabelEncoder()\n",
        "encoder.fit(Y)\n",
        "Y = encoder.transform(Y)"
      ],
      "execution_count": 194,
      "outputs": []
    },
    {
      "cell_type": "code",
      "metadata": {
        "id": "7eel3wa8lVX7"
      },
      "source": [
        "X_train,X_test,Y_train,Y_test = train_test_split(X,Y,test_size=0.2)"
      ],
      "execution_count": 195,
      "outputs": []
    },
    {
      "cell_type": "code",
      "metadata": {
        "id": "5A1Rs0fDllNQ"
      },
      "source": [
        "def base_model():\n",
        "    model = Sequential()\n",
        "    model.add(Dense(10,input_dim = 13, activation = 'relu',kernel_regularizer= 'l2'))\n",
        "    model.add(Dense(8,activation= 'relu'))\n",
        "    model.add(Dense(6,activation= 'relu'))\n",
        "    model.add(Dense(4,activation='softmax'))\n",
        "    opt = tf.keras.optimizers.Adam(learning_rate=0.005)\n",
        "    model.compile(loss = 'categorical_crossentropy', optimizer = opt, metrics = ['accuracy'])\n",
        "    return model\n",
        "\n",
        "estimator = KerasClassifier(build_fn=base_model,epochs=300, batch_size = 100)"
      ],
      "execution_count": 196,
      "outputs": []
    },
    {
      "cell_type": "code",
      "metadata": {
        "id": "KNdYx2cUq6Hv"
      },
      "source": [
        "# #Library to evaluate the model\n",
        "# from sklearn.model_selection import cross_val_score, KFold\n",
        "# #Evaluate the model using KFold cross validation\n",
        "# kfold = KFold(n_splits=10,shuffle=True)\n",
        "# results = cross_val_score(estimator,X,Y,cv=kfold)\n",
        "# print(\"%.2f%% (%.2f%%)\" % (results.mean()*100,results.std()*100))"
      ],
      "execution_count": 197,
      "outputs": []
    },
    {
      "cell_type": "code",
      "metadata": {
        "id": "IVfdGAZprznA"
      },
      "source": [
        "estimator.fit(X_train,Y_train)"
      ],
      "execution_count": null,
      "outputs": []
    },
    {
      "cell_type": "code",
      "metadata": {
        "colab": {
          "base_uri": "https://localhost:8080/"
        },
        "id": "fJbE3iA6sxjj",
        "outputId": "9b20e1c0-4f04-4288-fdff-8e272d566931"
      },
      "source": [
        "y_preds = estimator.predict(X_test)"
      ],
      "execution_count": 199,
      "outputs": [
        {
          "output_type": "stream",
          "text": [
            "/usr/local/lib/python3.7/dist-packages/keras/engine/sequential.py:450: UserWarning: `model.predict_classes()` is deprecated and will be removed after 2021-01-01. Please use instead:* `np.argmax(model.predict(x), axis=-1)`,   if your model does multi-class classification   (e.g. if it uses a `softmax` last-layer activation).* `(model.predict(x) > 0.5).astype(\"int32\")`,   if your model does binary classification   (e.g. if it uses a `sigmoid` last-layer activation).\n",
            "  warnings.warn('`model.predict_classes()` is deprecated and '\n"
          ],
          "name": "stderr"
        }
      ]
    },
    {
      "cell_type": "code",
      "metadata": {
        "colab": {
          "base_uri": "https://localhost:8080/"
        },
        "id": "8HSZ4ch9vVak",
        "outputId": "2d738f39-e75e-4b31-e607-16d56486b05d"
      },
      "source": [
        "def acc(Y_test, y_preds):\n",
        "    count = 0\n",
        "    for i,x in enumerate(y_preds):\n",
        "        if x == Y_test[i]:\n",
        "            count += 1\n",
        "    accuracy = count*100/(len(Y_test))\n",
        "    print(accuracy)\n",
        "\n",
        "acc(Y_test, y_preds)"
      ],
      "execution_count": 200,
      "outputs": [
        {
          "output_type": "stream",
          "text": [
            "84.05797101449275\n"
          ],
          "name": "stdout"
        }
      ]
    },
    {
      "cell_type": "code",
      "metadata": {
        "id": "kpOVPDJF0oL_"
      },
      "source": [
        ""
      ],
      "execution_count": 200,
      "outputs": []
    }
  ]
}