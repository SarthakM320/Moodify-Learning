{
  "nbformat": 4,
  "nbformat_minor": 0,
  "metadata": {
    "colab": {
      "name": "Week_1_Assignment.ipynb",
      "provenance": [],
      "collapsed_sections": [],
      "toc_visible": true
    },
    "kernelspec": {
      "display_name": "Python 3",
      "language": "python",
      "name": "python3"
    },
    "language_info": {
      "codemirror_mode": {
        "name": "ipython",
        "version": 3
      },
      "file_extension": ".py",
      "mimetype": "text/x-python",
      "name": "python",
      "nbconvert_exporter": "python",
      "pygments_lexer": "ipython3",
      "version": "3.8.5"
    }
  },
  "cells": [
    {
      "cell_type": "code",
      "metadata": {
        "id": "hTPa6JMuHeQW",
        "colab": {
          "base_uri": "https://localhost:8080/",
          "height": 344
        },
        "outputId": "2c436cc0-8121-42a3-da3b-6815b80913b3"
      },
      "source": [
        "from numpy import *\n",
        "from random import *\n",
        "from pylab import *\n",
        "\n",
        "\n",
        "def swap(arr):\n",
        "    for i in range(8):\n",
        "        x1 = randint(0, 100)\n",
        "        x2 = randint(0, 100)\n",
        "        y1 = randint(0, 150)\n",
        "        y2 = randint(0, 150)\n",
        "        number = arr[x1, y1]\n",
        "        arr[x1, y1] = arr[x2, y2]\n",
        "        arr[x2, y2] = number\n",
        "\n",
        "\n",
        "def firstneighbour(arr, x, y):\n",
        "    firstneighbour = [[x-1, y-1], [x+1, y+1], [x, y-1],\n",
        "                      [x+1, y-1], [x-1, y], [x-1, y+1], [x, y+1], [x+1, y]]\n",
        "    remove = []\n",
        "    for cell in firstneighbour:\n",
        "        if (cell[0] < 0 or cell[0] > 99 or cell[1] < 0 or cell[1] > 149):\n",
        "            remove.append(cell)\n",
        "\n",
        "    firstneighbour = [cell for cell in firstneighbour if cell not in remove]\n",
        "\n",
        "    list1 = range(1, 101)\n",
        "    numbers = choice(list1, 25)\n",
        "\n",
        "    for cell in firstneighbour:\n",
        "        randomint = randint(1, 101)\n",
        "        if randomint in numbers:\n",
        "            arr[cell[0], cell[1]] = 1\n",
        "\n",
        "\n",
        "def secondneighbour(arr, x, y):\n",
        "    secondneighbour = [[x-2, y-2], [x-1, y-2], [x, y-2], [x+1, y-2], [x+2, y-2],\n",
        "                       [x-2, y-1], [x+2, y-1],\n",
        "                       [x-2, y], [x+2, y],\n",
        "                       [x-2, y+1], [x+2, y+1],\n",
        "                       [x-2, y+2], [x-1, y+2], [x, y+2], [x+1, y+2], [x+2, y+2]]\n",
        "    remove = []\n",
        "    for cell in secondneighbour:\n",
        "        if (cell[0] < 0 or cell[0] > 99 or cell[1] < 0 or cell[1] > 149):\n",
        "            remove.append(cell)\n",
        "\n",
        "    secondneighbour = [cell for cell in secondneighbour if cell not in remove]\n",
        "\n",
        "    list1 = range(1, 101)\n",
        "    numbers = choice(list1, 8)\n",
        "\n",
        "    for cell in secondneighbour:\n",
        "        randomint = randint(1, 101)\n",
        "        if randomint in numbers:\n",
        "            arr[cell[0], cell[1]] = 1\n",
        "\n",
        "\n",
        "virus = zeros([100, 150])\n",
        "virus[50, 75] = 1\n",
        "\n",
        "onespos = {(50, 75)}\n",
        "\n",
        "iterations = 0\n",
        "\n",
        "onenum = [1]\n",
        "\n",
        "onesadd = [0]\n",
        "\n",
        "\n",
        "# onespos.append([50,75])\n",
        "\n",
        "bool_value = True\n",
        "\n",
        "while bool_value:\n",
        "\n",
        "    swap(virus)\n",
        "\n",
        "    bool_value = False\n",
        "\n",
        "    for cell in onespos:\n",
        "        firstneighbour(virus, cell[0], cell[1])\n",
        "        secondneighbour(virus, cell[0], cell[1])\n",
        "\n",
        "    for i in range(100):\n",
        "        for j in range(150):\n",
        "            if virus[i, j] == 1:\n",
        "                onespos.add((i, j))\n",
        "            else:\n",
        "                bool_value = True\n",
        "\n",
        "    onenum.append(len(onespos))\n",
        "    onesadd.append(onenum[len(onenum)-1]-onenum[len(onenum)-2])\n",
        "    iterations += 1\n",
        "\n",
        "subplot(2,1,1)\n",
        "x = range(iterations+1)\n",
        "plot(x, onenum)\n",
        "xlabel(\"Number of Iterations\")\n",
        "ylabel(\"Number of 1's in the Matrix\")\n",
        "show()\n",
        "\n",
        "subplot(2,1,2)\n",
        "plot(x, onesadd)\n",
        "xlabel(\"Number of Iterations\")\n",
        "ylabel(\"Number of 1's added\")\n",
        "show()\n",
        "\n",
       
      ],
      "execution_count": null,
      "outputs": [
        {
          "output_type": "display_data",
          "data": {
            "image/png": "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\n",
            "text/plain": [
              "<Figure size 432x288 with 1 Axes>"
            ]
          },
          "metadata": {
            "tags": [],
            "needs_background": "light"
          }
        },
        {
          "output_type": "display_data",
          "data": {
            "image/png": "iVBORw0KGgoAAAANSUhEUgAAAYsAAACTCAYAAAB/EjXJAAAABHNCSVQICAgIfAhkiAAAAAlwSFlzAAALEgAACxIB0t1+/AAAADh0RVh0U29mdHdhcmUAbWF0cGxvdGxpYiB2ZXJzaW9uMy4yLjIsIGh0dHA6Ly9tYXRwbG90bGliLm9yZy+WH4yJAAAgAElEQVR4nO3deXhU5fXA8e9JQghkY0tCQgg7sq8BLChq3TdEEBRxQ622dUVbtb9q1Wor1ap1QUXrXgWsC+KCgIi7su/7vpOEBAghJCSZ8/vj3uhIswzJTGaSnM/zzDMzd+7ce7hM5sx93/eeV1QVY4wxpiJhwQ7AGGNM6LNkYYwxplKWLIwxxlTKkoUxxphKWbIwxhhTKUsWxhhjKmXJwhhjTKUsWRhjjKlURHkviMghoNwr9lQ1LiARGWOMCTnlJgtVjQUQkYeAPcCbgABjgeQaia6KWrRooW3btg12GMYYU6ssWrRon6omlPWaVFbuQ0SWqWrvypaFkvT0dF24cGGwwzDGmFpFRBapanpZr/nSZ3FYRMaKSLiIhInIWOCwf0M0xhgTynxJFpcDo4EM9zbKXWaMqac8HmXh1hwOFxYHOxRTQ8rtsyilqluBiwIfijGmtnh89jomzt1EZEQYgzs05/SuSZzRNZHk+EbBDs0ESKXJQkQ6A88DSaraQ0R6AcNU9eGAR2eMCTlfr8/iuS83cX7PZFrGR/H5mgzum7aS+6ZB95S4nxJHj5R4wsIk2OEaP/Glg/sr4I/AJFXt6y5bqao9aiC+KrEObmMCIyO3gPOe+oYWMQ2ZdtMQGkWGo6psysrj8zWZzFmTwaJt+/EoJMY25NweLRnRL5VeqfGIWOIIdRV1cFd6ZgE0VtX5x/xHW0OlMfVMcYmHWycvIf9oCRPH9qVRZDgAIkLHxFg6Jsby21M6kHP4KHPXZvL5mgwmL9jB6z9so2NiDCP6tWJ4n1akNLGmqtrIl2SxT0Q64F6gJyKX4Fx3YYypR56es4F5W3J4fFRvOibGlrtes+hIRvZPZWT/VA4eKWLGij28t3gnj362jsdmrmNwh+aM6JvKOT1aEt3Ql68gEwp8aYZqD7wIDAb2A1uAK9yO75BkzVDG+Ne3G/Zx5SvzGNkvlX+OqtolVtuyD/PBkl28v3gX23PyadQgnIv6pPDAsO5ENQj3c8SmKipqhqo0WXhtJBoIU9VD/gwuECxZGOM/mYcKOO+pb2nauAEf3jyExpHVOxtQVRZt28+7i3YydeEOLuqdwpOX9rE+jRBQpT4LEbmjnOUAqOoTlez0FeACILO0M1xEmgFTgbbAVmC0qu4XZ6NPAecB+cA1qrrYfc/VwL3uZh9W1dcr2q8xxn9KPMrtU5aSV1jE278ZVO1EAc53SHrbZqS3bUZq00b8c9Z6uqXEccPQDn6I2ARKRRflxbq3dOB3QCv39lugnw/bfg0455hl9wBzVLUTMMd9DnAu0Mm93YAzVLc0udwPDAIGAveLSFMf9m2M8YNnv9jI95uy+etFPeicVH4/RVXddFpHzu+ZzIQZa/lyXabft2/8p9xkoaoPquqDQCrQT1XvVNU7gf5AWmUbVtWvgZxjFl8ElJ4ZvA4M91r+hjp+BJqISDJwNjBbVXNUdT8wm/9NQMaYAPh+0z6emrOeEX1bMap/akD2ISI8NqoXXVrGccvkJWzKygvIfkz1+VLuIwk46vX8qLusKpJUtXQk1V6v7bQCdnitt5Ofz2TKWm6MCaCsQ4XcNmUp7VpE89DwHgHtT2gcGcGLV/UnMjyM37yxkNyCooDty1SdL8niDWC+iDwgIg8A83CamKpFnZ5133rXfSAiN4jIQhFZmJWV5a/NGlPvHMg/yo1vLiT3SBETx/arkeGtqU0b8/wV/dmenc+tk5dQ4vHbV4Pxk0qThar+DRiHM2x2PzBOVR+p4v4y3OYl3PvSRspdQGuv9VLdZeUtLyvOF1U1XVXTExLKLMdujKnEjpx8Rjz/PSt35fKvS/vQpWXNzXE2sF0zHryoO1+uy+LRmWtrbL/GN+UmCxFpVnrDGbn0pnvb5i6riunA1e7jq4EPvZZfJY4TgYNuc9VM4CwRaep2bJ/lLjPG+NnynQe4+Lnvyc47yn+uH8S5PWt+jrOxg9pwxYlpTPpqM9OWlPm70ARJReeXi3CaiQSnQ3u/+7gJsB1oV9GGRWQycCrQQkR24oxqmgC8IyLXAdtwSp8DfIozbHYjztDZcQCqmuPO1LfAXe+vqnpsp7kxpprmrMng5reX0Dwmkik3DKrwCu1A+8sF3Vmfkcfd7y2nfUI0vVKbBC0W8zNfruB+CfhAVT91n58LDFfVG2sgviqxi/KM8d1b87Zx37SVdE+J5+Vr0kmMjQp2SGTnFTLs2e8o8SjTbxkSEjHVB9WdKe/E0kQBoKozcEp/GGNqMY9H+cdna/nzBys59YREptxwYsh8KTePachLV6Vz8EgRN7+9hOIST7BDqvd8SRa7ReReEWnr3v4M7A50YMaYwCksLmH8O0t5/stNXD4ojRev7B9yRf26pcTx8PAezN+Sw9NfbAx2OPWeL8liDJAAfODeEt1lxpha6GB+EVe/Mp8Pl+7mj2efwN+G9yAi3Jevgpo3sn8qI/ul8swXG/h+475gh1Ov+VxIsDaxPgtjyrY9O59xr81ne04+j13Sm+F9Q/8a18OFxQx79ltyC4qZcdvJtIhpGOyQ6qxq9VmISIKIPCYin4rIF6U3/4dpjAmkRdtyGP7cd2QfPsp/rhtUKxIFQHTDCJ69vB+5R4oYP3UpHrtgLyh8Ofd8C1iLM1T2QZxrLhZU9AZjTGj5aNluxrw0j7ioCN7/3WAGtW8e7JCOS9fkOO6/sDvfbNjHC19vCnY49ZIvyaK5qr4MFKnqV6p6LfDrAMdljPEDVWXi3I3cMnkJvVPjef/3Q2ifEBPssKpkzMDWXNArmcdnrWfhVrvcqqb5kixKq3rtEZHzRaQvUNUruI0xNaSoxMPd7y3nsZnruKhPCv+5fhDNoiODHVaViQiPjOhJatNG3Dp5CfsPH638TcZvfEkWD4tIPHAn8Afg38D4gEZljKmWg0eKuObV+byzcCe3nt6Jf13ah4YRtX/q0tioBjwzpi9ZeYX88d1l1MUBOqHKl0KCH6vqQVVdqaqnqWp/VZ1eE8EZY47fjpx8Rj7/PfO35PD4qN7ccWbnOjVlaa/UJvzp3K58viaTV77bGuxw6o3QHFxtjKmSvQcLuOzFH8k6VMib1w1iZIAmLQq2cUPackbXJCbMWMPynQeCHU69YMnCmDri4BHnYrsD+c7Q2BNr2Yin4yEi/HNULxJiGnLT24s5kG/9F4FmycKYOqCgqITfvL6QzfvymHRlOj1T44MdUsA1aRzJs2P7sfdgAbdOWWoTJgWYLxfl3SYice5cEy+LyGIROasmgjPGVK64xMOtk5ewYFsOT4zuw0mdWgQ7pBrTL60pf72oB1+vz+KxmeuCHU6d5suZxbWqmosz8VBT4EqceSmMMUGmqtz34Upmrc7g/gu6cWHvlGCHVOPGDExj7KA0XvhqEx8tsxqngeJLsigdRnEe8KaqrvJaZowJoic/38Dk+Tu46bQOXDOkwvnI6rT7L+xOepum3PXuclbvzg12OHWSL8likYjMwkkWM0UkFrDi8sYE2Zs/bOXpORsYnZ7KH846IdjhBFVkRBjPXdGPuEYR3PDmQrtgLwB8SRbXAfcAA1Q1H4jEnfbUGBMcn67Yw1+mr+KMron8/eKedeo6iqpKjI1i0pXpZOYWcvPkxTZhkp+VmyxEJE1E0oBkVV2sqgcAVDVbVZfXWITGmF/4ftM+bp+ylP5pTXlmTL+QnYsiGPq0bsLDF/fgu43Z/OOztcEOp06paGqs1937bOCSGojFGFOGo8Uelu88wLwtOfy4OZt5W3Jo26Ix/746nUaRtb+Eh7+NTm/Nql0HeembLXRPia81pdhDXbnJQlVPq8lAjDGOgqISlmw/wLwt2czbnMPi7fspLHaaVE5IimXMgNb8/rSONGlce4sCBtq9F3Rjzd5D3P3ecjomxtCjVd2/7iTQqjRTnoicqaqzAxCPX9hMeaY2Wr07l4lfbmT2qgyOlngQgW7JcQxs14xB7ZozsF2zWl01tqbtyytk2DPfIiJMu2kICbE2w15lKpopr6rJYruqplU7sgCxZGFqk8Xb9zPxi43MWZtJTMMILumfysmdWpDethnxjRoEO7xabcXOg1zywvfENWrAoyN7cVqXxGCHFNIqShblNkOJSHmVZQWou0VnjKkBqsoPm7J5du5Gvt+UTZPGDbjjzM5c/au2xDe2BOEvPVPjef/3g7lj6jLGvbaAMQPTuPf8rkQ3rKi71pSloiN2MnAFkHfMcgEGBiwiY+owVeWLtZk8O3cjS7YfICG2IX8+ryuXD0qzL7AA6Z4Sz/RbhvDErPW8+M1mvtu4jydG9ya9rc3hdjwq+nT+COSr6lfHviAiVoTFmOO0KSuP8VOXsnznQVo1acRDw3swqn8qUQ1sRFOgNYwI50/ndeX0rknc+d+ljJ70Azee0oHbz+hUJyaFqglV6rMIddZnYULNR8t2c897y2nYIJw/nduF4X1b0cCujwiKvMJi/vbJaibP30GXlrE8eWkfuibHBTuskFBRn4V9Wo0JoMLiEu7/cCW3TF7CCS1j+eTWkxiV3toSRRDFNIzgkRG9ePnqdPblHWXYs98y6atNNkVrJewTa0yA7Nyfz+hJP/L6D9u47qR2TL3xVyTHNwp2WMZ1etckZo0fyuldknhkxlruenc5RVYipFzWo2ZMAMxdl8n4qUspKVGeH9uPc3smBzskU4Zm0ZE8f0U/nvx8A0/P2cDe3AKeG9uP2CgbkXasimpDzXHv/1Fz4RhTu5V4lH/OXMe4VxfQMi6K6becZIkixIkId5zZmX+M7Mn3m7IZPelHMnILgh1WyKmoGSpZRAYDw0Skr4j0875VZ6cislVEVojIUhFZ6C5rJiKzRWSDe9/UXS4i8rSIbBSR5dXdtzGBkpFbwJUvz+PZuRu5NL01024aQrsW0cEOy/jo0gFpvHLNALZnH+biid+xbu+hYIcUUsodDSUil+CUJz8JOHZokarqr6u8U5GtQLqq7vNa9iiQo6oTROQeoKmq3i0i5wG34MynMQh4SlUHVbR9Gw1lalJBUQn//mYzz325iRKP8tDwHoxObx3ssEwVrdx1kGtfW8CRohImXdmfwR3qzzS11Sr3ISL3qepDfg5oK/+bLNYBp6rqHhFJBr5U1RNEZJL7ePKx65W3fUsWpiaoKjNW7uVvn6xh14EjnN09if87ryttmtvZRG2368ARxr06ny37DvPYJb3rTeXaKpX7KKWqD4nIMGCou+hLVf24mjEpMEtEFJikqi8CSV4JYC+Q5D5uBezweu9Od9kvkoWI3ADcAJCWFrJlq0wdsWr3QR78aDXzt+TQpWUsb18/iMEd688v0LquVZNG/Pe3g7nxzYXcPnUpuw4c4fendqjXk0xVmixE5BGc8h5vuYtuE5HBqvp/1djvSaq6S0QSgdki8otZSlRV3UTiMzfhvAjOmUU1YjOmXPvyCnl81jqmLNhB08aRPDy8B5cNaG0TENVB8Y0a8Pq1A7n73eU8NnMdYSL87tQOwQ4raHwZOns+0EdVPQAi8jqwBKhyslDVXe59poh8gJOMMkQk2asZKtNdfRfg3QCc6i4zpsaUeJRXv9vCU59v4EhRCdcOacetp3eyqrB1XMOIcJ68tA9FHuWfs9aR3rYpA+ppTSlffw418XpcrVlERCRaRGJLHwNnASuB6cDV7mpXAx+6j6cDV7mjok4EDlbUX2GMv23Zd5hRL3zPw5+soX/bpswcP5T7LuhmiaKeEBEmjOhJ66aNuOXtJWTnFQY7pKDw5cziEWCJiMzFqTg7FLinGvtMAj5w2/4igLdV9TMRWQC8IyLXAduA0e76n+KMhNoI5APjqrFvY3zm8Shv/LCVCZ+tJTI8jH9d2oeL+qTU63br+io2qgETx/bj4ue+Z/w7y3jtmgGEhdWvz4FPhQTdZqEB7tP5qro3oFFVk42GMtW1Iyefu95dzg+bszn1hAQmjOhFy/ioYIdlguytedv48wcr+ePZJ3DTaR2DHY7fVWs0FIDb7FPeZEjG1BmqytQFO3jo49UATBjRk0sHtLazCQPA5QPT+HFzDo/PWkd6m6YMal9/5oGzIRzGuDJyCxj32gLueX8FPVPj+ez2oVw2MM0ShfmJiPDIiJ60aR7NrVOWsK8e9V9YsjD1nsejvLNgB2c9+TU/bs7m/gu78fb1J9K6WeNgh2ZCUEzDCCZe3o8D+UWMn7oUj6d+jNSvMFmISPix10AYU5es3ZvL6Ek/cNd7y+mUGMOnt57MuCHt6l3npTk+3VLieGBYd77ZsI/nvtwY7HBqRIV9FqpaIiLrRCRNVbfXVFDGBNrhwmKemrOBl7/dQlxUBI+O7MUl/VMtSRifXTagNT9uzuaJ2evp36YZv+pQt/svfOngbgqsEpH5wOHShao6LGBRGRMgqsrMVRk8+NEq9hws4LIBrbn7nC40jY4MdmimlhER/n5xT1bsOsitU5bw6a0nkxDbMNhhBYwvyeK+gEdhTA3YkZPP/dNX8cXaTLq0jOXZy/vSv039vBrX+Ee0238xfOJ33PHOUl4fN7DOnp36UkjwKxFpA3RS1c9FpDEQHvjQjPGPohIPL369mafnbCAiTLj3/K5cM7it1XMyftE1OY6/XNiNP3+wktd/2Mq4Ie2CHVJA+FJI8Dc41VybAR1wKr6+AJwe2NCMqb41e3L547vLWLkrl3O6t+T+Yd1sHmzjd5cPTGPOmkwmzFjLyZ1a0DExNtgh+Z0vP61uAoYAuQCqugFIDGRQxlTX0WIPT85ez4XPfMvegwU8P7YfL1zZ3xKFCQgRYcLInjSODGf81GUUlXiCHZLf+ZIsClX1aOkTEYnAmY/CmJC0ctdBhj37LU/N2cAFvZKZPf4UmwfbBFxibBSPjHA6vJ+ZsyHY4fidLx3cX4nI/wGNRORM4PfAR4ENy5jjV1hcwjNzNvL8V5toHh3JS1elc2a3pMrfaIyfnNMjmZH9Upn45SZO7ZJIv7SmwQ7Jb3w5s7gHyAJWADfiVIG9N5BBGXO8lu44wIXPfMuzczcyvE8rZo8/xRKFCYr7h3WjZVwUd0xdSv7R4mCH4ze+jIbyuBMezcNpflqnvpSqNSbACotLmLMmk/8u3MFX67NIiovi1XEDOO0E61IzwRMX1YDHR/dmzEs/8vdP1/Dw8J7BDskvfBkNdT7O6KdNOPNZtBORG1V1RqCDM+ZYqsrKXbm8u2gHHy7bzYH8IlrGRfG7Uztw4ykdiIuyCYlM8J3YvjnXn9SOl77Zwuldk+rEDxhf+iweB05T1Y0AItIB+ASwZGFqzL68QqYt2cW7i3aydu8hIiPCOLt7Sy7pn8pJHVsQXkcvhDK1151nncDX6/dx17vLmXX70FpfJcCXZHGoNFG4NgOHAhSPqeeOFnvYnpPPln2H2ZyVx5Z9h9mUlceS7Qco9ii9Wzfh4eE9uLBXCvGN7SzChK6oBuE8cWlvhk/8jj9PW8HEy/vV6nL35SYLERnhPlwoIp8C7+D0WYwCFtRAbKaOUlUyDxWyOeswm/flsTnr8E/JYcf+I5R4lXxuERNJ+xYxXHdyOy7pl0qnpLp3sZOpu7qnxDP+zM48+tk6pi3dxcV9U4MdUpVVdGZxodfjDOAU93EWYFc2GZ/sOnCERdv2sznr56SwZd9h8gp/HiXSMCKMdi2i6ZYSxwW9UmifEE37hBjatYgmvpGdPZja7cahHfhiTSZ/mbaK9DbNau08KT7NwV3b2BzcwbX3YAGfrNjDx8t3s2T7AQBEICW+Ee0ToungJoLSpJAcF1Vni68ZA7A9O5/zn/mGVk0a8d7vBhPd0KcZrWtctebgFpF2wC1AW+/1rUS58ZZ1qJAZK/fw8bI9LNiWgyp0S47jrnNO4NTOibRPiCaqgdWfNPVTWvPGTLy8H9e8Op/bpy5l0hX9a90PJF/S2zTgZZyrtutewRNTZfsPH2XGyr18vHw3P27OxqPQOSmG8Wd05vxeyXRIiAl2iMaEjKGdE7jvgm48+NFqHp+9jj+e3SXYIR0XX5JFgao+HfBITK1wuLCY2aszmL5sN1+vz6LYo7RvEc3Np3Xkgt4pdLYOaGPKdc3gtqzPyGPi3E10SoxleN9WwQ7JZ74ki6dE5H5gFlBYulBVFwcsKhNSCotL+GpdFtOX7ebzNRkUFHlIiY/iupPacWHvFLqnxNXqIYHG1BQR4cFh3dmclcdd7y2nTfPG9K0l9aMq7eAWkUeAK3Gu4C5thlJV/XWAY6sy6+CuPo9Hmbclh2lLdjFj5R5yC4ppFh3J+T2TGdYnhf5pTWtdm6sxoSLn8FEumvgtBUUept88JGRK51fUwe1LstgIdPMuUx7qLFlU3Y6cfN5bvJP3Fu9kR84RoiPDObtHS4b1TmFIxxY0sNnljPGL9RmHuHjid7RLiOa/Nw6mUWTwB4BUazQUsBJoAmT6NSoTMvKPFjNjxV7eXbSTHzZnIwJDOrTgzjNP4OzuLUPiQ2xMXdM5KZanx/Tl+jcW8of/LuPZy/uGdHOuL8miCbBWRBbwyz4LGzpbi2XnFbJmzyE+WrabT1bsIa+wmDbNG3PnmZ0Z0T+VVk1C47TYmLrs9K5J3HNOFx6ZsZbOc2K57YxOwQ6pXL4ki/sDHoUJCI9H2X3wCBsz89iYmcemrLyfHu/PLwKgcWQ45/dMZlR6awa0bRrSv2yMqYtuGNqe9Rl5PPn5eprFRHJpemsiI0Kvudeu4K6liks8ZOUVkpFbyN6DBWTkOre9uQVk5hayN7eA3QeOkH+05Kf3NG3cgI6JMXRMjKFDgnM/oG2zkL2a1Jj6orC4hCtfns/8LTm0iIlkZP9ULhuQRrsW0TUaR3U7uA/x85zbkUAD4LCqxvk1Sj+qa8kir7CYNXtyWb3bve3JZV3GIY4W//IayYgwITG2IUnxUSTFRpHcJMpJDm5iaB7TMEj/AmNMZUo8ytfrs5g8fztz1mZS4lF+1b45YwalcXb3JBpGBL7vsFrJ4pgNCXARcKKq3uOn+Hzd9znAU0A48G9VnVDeurU1WRQWl7AtO5/NWYfZmHmI1W6C2Jqd/9M6TRs3oHtKPN1S4mjTvDEt46JIcm/NoyNtOKsxdUBGbgHvLtrJ5Pnb2bn/CE0bN2Bkv1RGD2hNp8SYgDUX+y1ZeG1wiar2rXZkvu8vHFgPnAnsxCmRPkZVV5e1fqgmi8LiEvIKijlUUMyuA0fY7JblLq3GunN/Pl7VuUlr1pjuKXF0S46jW0oc3VPiSYpraP0KxtQTHo/y7cZ9TFmwnVmrMij2KHFREXRLiaNbcrzz/ZASR8fEGL8Ma69uIcERXk/DgHSgoNpRHZ+BwEZV3ezGNAXnDKfMZFFVmYcKmL50Nx5VSjzgUcXjUTwKJaqoKiUepUSV4hKluMRDkUcpKVGKPB6KS5zXC4s9HC4s5lBh0U/J4VBh8f80G4HTwdyuRTS9UuMZ3rcV7d1qrO1aRBNrU4QaU6+FhQlDOycwtHMCWYcKmbV6L6vc5ui352+joMj5TokMD6NTUgzdU+IY2jmBC3ql+D0WX3o2vee1KAa24nxR16RWwA6v5zuBQd4riMgNwA0AaWlpVdrJngMFPPzJmnJfF4FwEcLChAZhQkR4GA3ChYiwMCLChYifloUR2zCCxNgoOiREENMwgtioBsRGOY9jGkbQMj6K9gnRtIyLsjMFY0ylEmIbMnZQm5+eF5d42Jp9+KfksXpPLp+vyUSVgCSLWjEaSkQuAc5R1evd51cCg1T15rLWr2ozVHGJh/yiEsJECBdxkkOYECZCmGBf6saYkKbqtGxUdTqAKjVDichfKo5JH6pSNFWzC2jt9TzVXeZXEeFhxFk5C2NMLSUiAZs3pqJvxsNl3ACuA+4OSDTlWwB0EpF2IhIJXAZMr+EYjDGm3ir3zEJVHy99LCKxwG3AOGAK8Hh57wsEVS0WkZuBmThDZ19R1VU1GYMxxtRnFfZZiEgz4A5gLPA68JSq7q+h2KpMRLKAbdXYRAtgn5/CCSSL079qS5xQe2K1OP0r0HG2UdWEsl6oqM/iMWAE8CLQU1XzAhSc35X3j/WViCwsr5MnlFic/lVb4oTaE6vF6V/BjLOiPos7gRTgXmC3iOS6t0Miklsz4RljjAkFFfVZ2LAgY4wxQMVnFvXZi8EOwEcWp3/Vljih9sRqcfpX0OKsFRflGWOMCS47szDGGFMpSxZeROQcEVknIhtFpEZLsB8PEdkqIitEZKmIhFR5XRF5RUQyRWSl17JmIjJbRDa4902DGaMbU1lxPiAiu9zjulREzgtmjG5MrUVkroisFpFVInKbuzykjmkFcYbiMY0SkfkissyN9UF3eTsRmef+/U91LwAOxThfE5EtXse0T43EY81QjuMtgx5MIrIVSFfVkBsXLiJDgTzgDVXt4S57FMhR1QluEm6qqjVdBcCXOB8A8lT1n8GMzZuIJAPJqrrYvTh2ETAcuIYQOqYVxDma0DumAkSrap6INAC+xbno+A7gfVWdIiIvAMtU9fkQjPO3wMeq+m5NxmNnFj/7qQy6qh7FuVK9pqvr1nqq+jWQc8zii3Au6sS9H16jQZWhnDhDjqruUdXF7uNDwBqcKswhdUwriDPkqKP0urEG7k2BXwOlX8ChcEzLizMoLFn8rKwy6CH5Ycf5wMwSkUVuafZQl6Sqe9zHe4GkYAZTiZtFZLnbTBX05jJvItIW6AvMI4SP6TFxQggeUxEJF5GlQCYwG9gEHFDVYneVkPj7PzZOVS09pn9zj+mTIlIj8yVbsqidTlLVfsC5wE1uk0qtoE67Z6i2fT4PdAD6AHuo4RpoFRGRGOA94HZV/cVFsaF0TMuIMySPqaqWqGofnArWA4EuQQ6pTMfGKSI9gD/hxDsAaEYNFXa1ZPGzGimD7g+qusu9zwQ+wPmwh7IMt027tG07M8jxlElVM9w/Tg/wEiFyXN326veAt1T1fXdxyB3TsuIM1WNaSlUPAHOBX72EUTQAAAU5SURBVAFNRKT0QuWQ+vv3ivMct8lPVbUQeJUaOqaWLH5WK8qgi0i024GIiEQDZwErK35X0E0HrnYfXw18GMRYylX65eu6mBA4rm4n58vAGlV9wuulkDqm5cUZosc0QUSauI8b4QxqWYPzZXyJu1ooHNOy4lzr9SNBcPpVauSY2mgoL+6wvn/xcxn0vwU5pP8hIu1xzibAKdfydijFKSKTgVNxqmNmAPcD04B3gDScasCjVTWoncvlxHkqTnOJ4kwffKNXv0BQiMhJwDfACqB0Evf/w+kPCJljWkGcYwi9Y9oLpwM7HOcH8zuq+lf3b2sKTtPOEuAK99d7qMX5BZAACLAU+G1NFHq1ZGGMMaZS1gxljDGmUpYsjDHGVMqShTHGmEpZsjDGGFMpSxbGGGMqZcnC1AoioiLyuNfzP7iF//yx7ddE5JLK16z2fkaJyBoRmXvM8rbiVr8VkT7+rMwqIk1E5Pdez1NEpEYL0Jm6wZKFqS0KgREi0iLYgXjzuuLXF9cBv1HV0ypYpw9wXMmikhiaAD8lC1XdraoBT4ym7rFkYWqLYpwpJccf+8KxZwYikufenyoiX4nIhyKyWUQmiMhYd46AFSLSwWszZ4jIQhFZLyIXuO8PF5HHRGSBW7TtRq/tfiMi04H/KWEvImPc7a8UkX+4y/4CnAS8LCKPlfUPdCsH/BW4VJx5Ci51r9h/xY15iYhc5K57jYhMdy/QmiMiMSIyR0QWu/surZg8Aejgbu+xY85iokTkVXf9JSJymte23xeRz8SZL+NRr+PxmvvvWiEi//N/Yequ4/lVZEywTQSWl355+ag30BWnHPlm4N+qOlCcyXluAW5312uLU2OnAzBXRDoCVwEHVXWAOJU9vxORWe76/YAeqrrFe2cikgL8A+gP7MepDjzcvfL218AfVLXMCatU9aibVNJV9WZ3e38HvlDVa93SD/NF5HOvGHqpao57dnGxqua6Z18/usnsHjfOPu722nrt8iZnt9pTRLq4sXZ2X+uDUzm2EFgnIs8AiUArr/k/mlRy7E0dYmcWptZwq5i+Adx6HG9b4BZeK8QpQ136Zb8CJ0GUekdVPaq6ASepdMGpu3WVOCWi5wHNgU7u+vOPTRSuAcCXqprllrt+C6hOVeCzgHvcGL4EonBKfIBTsrq0xIcAfxeR5cDnOOW1KytbfhLwHwBVXYtTNqQ0WcxR1YOqWoBz9tQG57i0F5FnROQcILeMbZo6ys4sTG3zL2AxTrXNUsW4P3xEJAzwng7Tu7aPx+u5h19+/o+te6M4X8C3qOpM7xdE5FTgcNXCP24CjFTVdcfEMOiYGMbi1Avqr6pF4symGFWN/XoftxIgQlX3i0hv4Gyc2dpGA9dWYx+mFrEzC1OruL+k38HpLC61FafZB2AYzoxix2uUiIS5/RjtgXXATOB34pTeRkQ6i1PptyLzgVNEpIU4U/WOAb46jjgOAbFez2cCt4iIuDH0Led98UCmmyhOwzkTKGt73r7BSTK4zU9pOP/uMrnNW2Gq+h5wL04zmKknLFmY2uhxnGqxpV7C+YJehjMvQVV+9W/H+aKfgVPFswD4N04TzGK3U3gSlZyNuxVV78Epd70MWKSqx1Pqei7QrbSDG3gIJ/ktF5FV7vOyvAWki8gKnL6WtW482Th9LSvL6Fh/Dghz3zMVuKaSKqutgC/dJrH/4EzCY+oJqzprjDGmUnZmYYwxplKWLIwxxlTKkoUxxphKWbIwxhhTKUsWxhhjKmXJwhhjTKUsWRhjjKmUJQtjjDGV+n9S7wc5dhQekAAAAABJRU5ErkJggg==\n",
            "text/plain": [
              "<Figure size 432x288 with 1 Axes>"
            ]
          },
          "metadata": {
            "tags": [],
            "needs_background": "light"
          }
        },
        {
          "output_type": "stream",
          "text": [
            "Number of Maximum 1's added is 1127\n"
          ],
          "name": "stdout"
        }
      ]
    }
  ]
}
